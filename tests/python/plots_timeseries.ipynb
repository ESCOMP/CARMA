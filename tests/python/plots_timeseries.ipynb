{
 "cells": [
  {
   "cell_type": "markdown",
   "id": "e266e439-d31b-416a-8648-3afc2a553e96",
   "metadata": {},
   "source": [
    "# Import modules"
   ]
  },
  {
   "cell_type": "code",
   "execution_count": null,
   "id": "02e45801-4294-4162-b8f2-8272546efa1e",
   "metadata": {},
   "outputs": [],
   "source": [
    "import xarray as xr\n",
    "import numpy as np\n",
    "import cftime\n",
    "import matplotlib as mpl\n",
    "import matplotlib.pyplot as plt\n",
    "import seaborn as sns\n",
    "import pandas as pd\n",
    "from itertools import cycle\n",
    "import functools\n",
    "from matplotlib import animation\n",
    "from textwrap import wrap"
   ]
  },
  {
   "cell_type": "markdown",
   "id": "0a39cf68-ea90-4e84-ad20-e9726a38007a",
   "metadata": {},
   "source": [
    "# Functions"
   ]
  },
  {
   "cell_type": "code",
   "execution_count": null,
   "id": "a42146ae-3f9c-459a-a526-691b31cb135b",
   "metadata": {},
   "outputs": [],
   "source": [
    "def sizedist(group_name, group_type, bins, wet_radius, numdensity): \n",
    "    bin_str = [ str(int(n)) if n > 9 else \"0\"+str(int(n)) for n in bins]\n",
    "    \n",
    "    if group_type == 'standard':        \n",
    "        reff_tmp = []\n",
    "        dist_tmp = []\n",
    "        for bn in bin_str:\n",
    "            reff_tmp.append(wet_radius[group_name + bn + 'WR']) \n",
    "            dist_tmp.append(numdensity[group_name + bn + 'ND'])\n",
    "        reff = xr.concat(reff_tmp, dim='bin').assign_coords({\"bin\": bins}).assign_attrs(units=wet_radius[group_name + bn + 'WR'].units, description='Bin radius')\n",
    "        dist = xr.concat(dist_tmp, dim='bin').assign_coords({\"bin\": bins})\n",
    "        \n",
    "        dr = np.zeros(np.shape(reff))\n",
    "        dr[0, :] = reff.sel(bin=bins[1]).values - reff.sel(bin=bins[0]).values\n",
    "        dr[-1, :] = reff.sel(bin=bins[-1]).values - reff.sel( bin=bins[-2]).values\n",
    "        # dr[0, :] = (reff.sel(bin=bins[1]).values - reff.sel(bin=bins[0]).values) * reff.sel(bin=bins[0]).values/reff.sel(bin=bins[1]).values\n",
    "        # dr[-1, :] = (reff.sel(bin=bins[-1]).values - reff.sel( bin=bins[-2]).values)  * reff.sel(bin=bins[-2]).values/reff.sel(bin=bins[-1]).values\n",
    "\n",
    "        for b, bn in enumerate(bins[1:-1]):\n",
    "            b +=1\n",
    "            vp = reff.sel(bin=bins[b+1]).values\n",
    "            vm = reff.sel(bin=bins[b-1]).values\n",
    "            v0 = reff.sel(bin=bins[b]).values\n",
    "            dr[b, :] = np.sqrt(vp*v0) - np.sqrt(vm*v0)\n",
    "        dreff = xr.DataArray(data=dr, name='dr', coords=reff.coords, dims=reff.dims)\n",
    "        \n",
    "        dist = dist/dreff*reff\n",
    "        dist = dist.assign_attrs(long_name='Aerosol size distribution', units= \"#/cm3\", description='dN/dlogr')\n",
    "\n",
    "    \n",
    "    elif group_type == 'fractal':\n",
    "        dist_tmp = []\n",
    "        for bn in bin_str:\n",
    "            dist_tmp.append(numdensity[group_name + bn + 'ND'])\n",
    "            \n",
    "        tmp = xr.concat(dist_tmp, dim='bin').assign_coords({\"bin\": bins})   \n",
    "        tmp = tmp/ tmp.sum('bin')\n",
    "        dist = tmp.assign_attrs(long_name=\"Fraction of agglomerates\", units='', description='Fraction')\n",
    "\n",
    "\n",
    "    return dist\n"
   ]
  },
  {
   "cell_type": "markdown",
   "id": "fe6b8de4-7e70-49c5-a6bd-db16abe6cccc",
   "metadata": {},
   "source": [
    "# Definitions"
   ]
  },
  {
   "cell_type": "code",
   "execution_count": null,
   "id": "f8b16027-e23e-4f3a-a3bf-32ca9214f157",
   "metadata": {},
   "outputs": [],
   "source": [
    "in_dir = \"/glade/u/home/iquaglia/carma_box/run/carma/\"\n",
    "plot_dir = \"/glade/u/home/iquaglia/carma_box/tests/python/figures/\"\n",
    "\n",
    "# List of names of the experiments\n",
    "exper_list = ['sulftest'] \n",
    "exper_spec = {'sulftest': 'sulfatetest_test.nc'}  \n",
    "# exper_list = ['alum-215nm'] \n",
    "# exper_spec = {'alum-215nm': 'alumina-215nm_test.nc'}\n",
    "\n",
    "# Name of the file corresponding to name of the experiment \n",
    "# All the experiment need to have the same number and type of gases, elements, groups\n",
    "\n",
    "gases = ['Q', 'H2SO4']\n",
    "elements = ['SULF']\n",
    "groups = ['PRSUL']\n",
    "group_types = {'PRSUL' : 'standard'}\n",
    "\n",
    "# gases = ['']\n",
    "# elements = ['ALUM']\n",
    "# groups = ['PRALUM']\n",
    "# group_types = {'PRALUM' : 'fractal'}"
   ]
  },
  {
   "cell_type": "markdown",
   "id": "289a4ebf-8e4e-41f9-88f8-e63955f9f8a6",
   "metadata": {},
   "source": [
    "# Dictionary"
   ]
  },
  {
   "cell_type": "code",
   "execution_count": null,
   "id": "e7e9dc3a-a316-42ee-a668-81d410777731",
   "metadata": {
    "scrolled": true
   },
   "outputs": [],
   "source": [
    "ds = dict()\n",
    "\n",
    "for exp in exper_list:\n",
    "    ds[exp] = xr.open_dataset(in_dir + exper_spec[exp], decode_times=False)\n"
   ]
  },
  {
   "cell_type": "markdown",
   "id": "6e1cc07c-0649-4ea4-9356-8f22deffca8d",
   "metadata": {},
   "source": [
    "# Plots"
   ]
  },
  {
   "cell_type": "code",
   "execution_count": null,
   "id": "368b1800-5e8d-44c7-86b4-dd553af9126d",
   "metadata": {},
   "outputs": [],
   "source": [
    "# Atm variables\n",
    "atm_vars = ['P', 'Z', 'RHOA',  'T', 'deltaT', 'RLHEAT']\n",
    "\n",
    "# Gas variables\n",
    "gases_vars = ['', 'SL', 'SI', 'EI', 'EL', 'WT']\n",
    "\n",
    "# Gas variables\n",
    "elements_vars = ['MR']\n",
    "\n",
    "# Group variables\n",
    "bin_vars = ['r', 'rlow', 'rup', 'dr', 'arat', 'rrat', 'rprat', 'rmass', 'dm', 'vol', 'df','nmon']\n",
    "groups_vars = [ 'ND',  'MR', 'MD', 'RE', 'RM', 'AD', 'PA', 'AR', 'VM', 'JN', 'EX_VIS', 'OD_VIS' ]\n",
    "groupbins_vars = [ 'ND', 'RO', 'MR']"
   ]
  },
  {
   "cell_type": "code",
   "execution_count": null,
   "id": "ce026174-7820-4bca-97c8-9bbed2519b26",
   "metadata": {},
   "outputs": [],
   "source": [
    "color_exp = { exp: sns.color_palette()[e] for e, exp in enumerate(exper_list) } \n",
    "\n",
    "tmp_list = [grp+exp  for grp in groups for exp in exper_list]\n",
    "color_grp = { exp: sns.color_palette()[e] for e, exp in enumerate(tmp_list) } \n",
    "\n",
    "line_exp = { exp: '-' for e, exp in enumerate(exper_list) } \n",
    "\n",
    "linestyle_str = ['solid', 'dotted', 'dashed','dashdot']"
   ]
  },
  {
   "cell_type": "markdown",
   "id": "faa9ae10-c8ed-423c-b025-87245c645f39",
   "metadata": {},
   "source": [
    "## Atm"
   ]
  },
  {
   "cell_type": "code",
   "execution_count": null,
   "id": "b3b35b38-f4ba-479b-8c98-6789198d1446",
   "metadata": {},
   "outputs": [],
   "source": [
    "fig, axs = plt.subplots(figsize=(10, 7), nrows=2, ncols=int(len(atm_vars)/2)) \n",
    "axs = axs.flatten()\n",
    "\n",
    "fig.subplots_adjust(hspace=0.4, wspace=0.4)\n",
    "\n",
    "for i, var in enumerate(atm_vars):\n",
    "    for exp in exper_list:\n",
    "        if var in ds[exp].keys():       \n",
    "            axs[i].scatter(ds[exp].time, ds[exp][var], linestyle=line_exp[exp],  color=color_exp[exp], label=exp)\n",
    "            axs[i].set_title(ds[exp][var].long_name, fontweight='bold') \n",
    "            axs[i].set_ylabel(ds[exp][var].units)\n",
    "\n",
    "        ## Axis aspect \n",
    "        axs[i].grid()\n",
    "        axs[i].tick_params( direction=\"in\", length=10, top=True, right=True)\n",
    "        axs[i].set_xlabel(ds[exp].time.units)\n",
    "        axs[i].get_yaxis().get_major_formatter().set_useOffset(False)\n",
    "\n",
    "\n",
    "axs[0].legend( loc='upper center', fancybox=True)\n",
    "\n",
    "fig.patch.set_facecolor('white')\n",
    "#fig.savefig(plot_dir +'atm.png', bbox_inches='tight')"
   ]
  },
  {
   "cell_type": "markdown",
   "id": "75752e25-b9c4-438a-a685-0f05493fa9d1",
   "metadata": {},
   "source": [
    "## Gases"
   ]
  },
  {
   "cell_type": "code",
   "execution_count": null,
   "id": "bcd31b7b-8a74-4232-bb40-84e7df77e390",
   "metadata": {},
   "outputs": [],
   "source": [
    "fig, axs = plt.subplots(figsize=( 12, 8), nrows=len(gases_vars), ncols=len(gases)) \n",
    "axs = axs.flatten()\n",
    "\n",
    "fig.subplots_adjust(hspace=0.8, wspace=0.3)\n",
    "\n",
    "for g, gas in enumerate(gases):\n",
    "    for v, var in enumerate(gases_vars):\n",
    "        varname = gas + var\n",
    "        i = len(gases) * v + g\n",
    "        for exp in exper_list:\n",
    "            if varname in ds[exp].keys(): \n",
    "                axs[i].scatter(ds[exp].time, ds[exp][varname], linestyle=line_exp[exp],  color=color_exp[exp], label=exp)\n",
    "                axs[i].set_ylabel(ds[exp][varname].units)\n",
    "                axs[i].set_title(gas + ': ' + ds[exp][varname].long_name, fontweight='bold')    \n",
    "        \n",
    "        ## Axis aspect      \n",
    "        axs[i].grid()\n",
    "        axs[i].tick_params( direction=\"in\", length=10, top=True, right=True)\n",
    "        axs[i].get_yaxis().get_major_formatter().set_useOffset(False)\n",
    "\n",
    "[ axs[i].set_xlabel(ds[exp].time.units) for i in [-2,-1]]\n",
    "axs[0].legend( loc='upper center', fancybox=True)\n",
    "\n",
    "fig.patch.set_facecolor('white')\n",
    "fig.savefig(plot_dir +'gases.png', bbox_inches='tight')"
   ]
  },
  {
   "cell_type": "markdown",
   "id": "a7085ffc-3a86-462c-8f2b-4eb097d80dd8",
   "metadata": {},
   "source": [
    "## Groups"
   ]
  },
  {
   "cell_type": "markdown",
   "id": "d560b2d4-6acd-4a9b-a875-88c23e72ea6f",
   "metadata": {},
   "source": [
    "### Bins"
   ]
  },
  {
   "cell_type": "code",
   "execution_count": null,
   "id": "eea48536-d1fa-45f9-b22a-5792a6e50026",
   "metadata": {},
   "outputs": [],
   "source": [
    "fig, axs = plt.subplots(figsize=(10, 10), nrows=3, ncols=3)  \n",
    "axs = axs.flatten()\n",
    "fig.subplots_adjust(hspace=0.6, wspace=0.3)\n",
    "\n",
    "                \n",
    "for v, var in enumerate(['r', 'rmass', 'vol', 'arat', 'rrat', 'rprat', 'rmass', 'df', 'nmon']):\n",
    "    for g, grp in enumerate(groups):\n",
    "        varname = grp + '_' + var\n",
    "        i = len(groups) * v + g\n",
    "        for exp in exper_list:\n",
    "            if varname in ds[exp].keys(): \n",
    "                axs[i].plot(ds[exp].bin, ds[exp][varname], label=exp)    \n",
    "                if var == 'r':\n",
    "                    axs[i].fill_between(ds[exp].bin, ds[exp][grp + '_rup'], ds[exp][grp + '_rlow'], alpha=0.4)\n",
    "        \n",
    "        ## Axis aspect\n",
    "        axs[i].set_title( \"\\n\".join(wrap(ds[exp][varname].long_name, 25)), fontweight='bold')\n",
    "        axs[i].set_ylabel(ds[exp][varname].units)    \n",
    "        axs[i].set_xlabel('Mass bin number')\n",
    "        axs[i].grid()\n",
    "        axs[i].tick_params( direction=\"in\", length=10, top=True, right=True)\n",
    "        axs[i].set_ylim(bottom=0)\n",
    "        axs[i].ticklabel_format(style='sci', scilimits=(-4,4), axis='y')\n",
    "\n",
    "\n",
    "axs[0].legend( fancybox=True)\n",
    "\n",
    "fig.patch.set_facecolor('white')\n",
    "# fig.savefig(plot_dir +'bins.png', bbox_inches='tight')"
   ]
  },
  {
   "cell_type": "markdown",
   "id": "78eb454f-4e68-4b0b-bb65-67c67afa1ee3",
   "metadata": {},
   "source": [
    "### Group variables timeseries"
   ]
  },
  {
   "cell_type": "code",
   "execution_count": null,
   "id": "060c831a-7811-4dd2-982c-6264dc1db333",
   "metadata": {},
   "outputs": [],
   "source": [
    "fig, axs = plt.subplots(figsize=(12, 10), nrows=4, ncols=3) \n",
    "axs = axs.flatten()\n",
    "\n",
    "fig.subplots_adjust(hspace=0.6, wspace=0.3)\n",
    "\n",
    "for i, var in enumerate(groups_vars):\n",
    "    for g, grp in enumerate(groups):\n",
    "        varname = grp + var\n",
    "        for e, exp in enumerate(exper_list):\n",
    "            \n",
    "            if varname in ds[exp].keys():\n",
    "                axs[i].set_title(ds[exp][varname].long_name, fontweight='bold') \n",
    "                axs[i].plot(ds[exp].time, ds[exp][varname], linestyle=line_exp[exp], color=color_grp[grp+exp], label=exp +': ' + grp)\n",
    "                axs[i].set_ylabel(ds[exp][varname].units)\n",
    "                if var == 'RE':\n",
    "                    axs[i].plot(ds[exp].time, ds[exp][grp + 'REw'], linestyle='--',  color=color_grp[grp+exp])\n",
    "                    axs[i].set_title( 'Effective radius', fontweight='bold') \n",
    "                    axs[i].legend(['dry', 'wet'])\n",
    "        \n",
    "        ## Axis aspect \n",
    "        axs[i].grid()\n",
    "        axs[i].tick_params( direction=\"in\", length=10, top=True, right=True)\n",
    "        axs[i].set_xlabel(ds[exp].time.units)\n",
    "\n",
    "\n",
    "[axs[j].axis('off') for j in range(i+1, len(axs))]\n",
    "\n",
    "axs[0].legend( loc='upper center',  fancybox=True)\n",
    "fig.patch.set_facecolor('white')\n",
    "fig.savefig(plot_dir +'groups.png', bbox_inches='tight')"
   ]
  },
  {
   "cell_type": "markdown",
   "id": "188ae2ff-a70f-4762-ac39-e48c21f3f297",
   "metadata": {},
   "source": [
    "### Size distributions"
   ]
  },
  {
   "cell_type": "code",
   "execution_count": null,
   "id": "42e271ec-9014-4e19-bae1-cdc0b1768a55",
   "metadata": {},
   "outputs": [],
   "source": [
    "for grp in groups:\n",
    "    for exp in exper_list:\n",
    "        my_list = list(ds[exp].keys())\n",
    "        wr_list = [item for item in my_list if 'WR' in item]\n",
    "        nd_list = [item for item in my_list if 'ND' in item]\n",
    "        wet_radius = ds[exp][wr_list]\n",
    "        numdensity = ds[exp][nd_list]\n",
    "        \n",
    "    \n",
    "        ds[exp][grp + 'dist'] = sizedist(grp, group_types[grp], ds[exp].bin, wet_radius, numdensity)\n"
   ]
  },
  {
   "cell_type": "code",
   "execution_count": null,
   "id": "978a2e54-5a5e-4f2c-b197-4c13cb31a36b",
   "metadata": {},
   "outputs": [],
   "source": [
    "fig, axs = plt.subplots(figsize=(10, 6), nrows=3, ncols=3) \n",
    "axs = axs.flatten()    \n",
    "fig.subplots_adjust(top=0.9, hspace=0., wspace=0.)\n",
    "\n",
    "\n",
    "tt = [ 1, 2,  4, 8, 12, 24, 48, 60, 96]\n",
    "ttt = ['30m', '1h','2h', '4h', '6h', '12h', '1d', '1.5d', '2d']\n",
    "\n",
    "for i, t in enumerate(tt):\n",
    "    for exp in exper_list:\n",
    "        for grp in groups:\n",
    "            \n",
    "            vr = ds[exp][grp + 'dist'].sel(time = ds[exp].time[t])\n",
    "\n",
    "            if group_types[grp] == 'standard':\n",
    "                axs[i].bar( ds[exp][grp + '_r'].values * 1e4, vr.values, \n",
    "                   align='center', width=ds[exp][grp + '_dr'].values * 1e4, \n",
    "                   edgecolor=color_grp[grp+exp], color='none', label=exp)\n",
    "                    \n",
    "                axs[i].set(xscale='log', yscale='log', xticks=[1e-4, 1e-3, 1e-2, 1e-1, 1], xlim=[1e-4, 1e-1], ylim=[1e-5, 1e4])\n",
    "\n",
    "           \n",
    "            elif group_types[grp] == 'fractal':\n",
    "                axs[i].bar( ds[exp]['bin'], vr.values, \n",
    "                    align='center', width=1, edgecolor=color_exp[exp], color='none', label=exp)\n",
    "\n",
    "                axs[i].set( xticks=ds[exp]['bin'], yticks=np.arange(0.0, 1., 0.2), xlim=[0., len(ds[exp]['bin'])+1], ylim=[0, 1.04])\n",
    "\n",
    "     # Axis aspect\n",
    "    axs[i].set_title( 't= ' + ttt[i], y=0.82, fontweight='bold')\n",
    "    axs[i].minorticks_on()\n",
    "    axs[i].tick_params(which='major',direction=\"in\", length=5, top=True, right=True)\n",
    "    axs[i].tick_params(which='minor', direction=\"in\", length=2.5, top=False, bottom=False, right=True, left=True)\n",
    "    \n",
    "    if i < 6:\n",
    "        axs[i].set_xticklabels([])\n",
    "\n",
    "    if i%3:\n",
    "        axs[i].set_yticklabels([])\n",
    "\n",
    "axs[0].legend()\n",
    "\n",
    "if group_types[grp] == 'standard':\n",
    "    plt.suptitle( 'Number density distribution', fontweight='bold', fontsize=14)\n",
    "    axs[3].set_ylabel(\"dN/dlogr\", fontweight='bold', fontsize=14 )\n",
    "    axs[-2].set_xlabel(r'$\\mu$m')\n",
    "elif group_types[grp] == 'fractal':\n",
    "    plt.suptitle('Number density fraction per agglomerate', fontweight='bold', fontsize=16)\n",
    "    axs[3].set_ylabel(ds[exp][grp + 'dist'].description)\n",
    "    axs[-2].set_xlabel(r'Bin')\n",
    "\n",
    "\n",
    "\n",
    "fig.patch.set_facecolor('white')\n",
    "fig.savefig(plot_dir +'NDdist.png', bbox_inches='tight')"
   ]
  },
  {
   "cell_type": "markdown",
   "id": "d1403d23-fdb0-4eff-8619-5a810e5d6423",
   "metadata": {},
   "source": [
    "## Elements"
   ]
  },
  {
   "cell_type": "code",
   "execution_count": null,
   "id": "f4f167ae-0d7f-406e-8a49-640ad4dff99f",
   "metadata": {},
   "outputs": [],
   "source": [
    "def massfrct(group_name, element_name, bins, group_mmr, element_mmr): \n",
    "    bin_str = [ str(int(n)) if n > 9 else \"0\"+str(int(n)) for n in bins]\n",
    "    \n",
    "    elm_tmp = []\n",
    "    grp_tmp = []\n",
    "    for bn in bin_str:\n",
    "        elm_tmp.append(element_mmr[element_name + bn + 'MR'])\n",
    "        grp_tmp.append(group_mmr[group_name + bn + 'MR'])\n",
    "        \n",
    "    elm_xr = xr.concat(elm_tmp, dim='bin').assign_coords({\"bin\": bins})   \n",
    "    grp_xr = xr.concat(elm_tmp, dim='bin').assign_coords({\"bin\": bins})   \n",
    "    dist = elm_xr/grp_xr\n",
    "    dist = dist.assign_attrs(long_name=\"Mass fraction\", units='', description='Fraction')\n",
    "\n",
    "\n",
    "    return dist"
   ]
  },
  {
   "cell_type": "code",
   "execution_count": null,
   "id": "c5fe876b-49bd-45e8-9e86-57850e0ac024",
   "metadata": {},
   "outputs": [],
   "source": [
    "grp = groups[0]\n",
    "\n",
    "for exp in exper_list:\n",
    "    for elm in elements:    \n",
    "        my_list = list(ds[exp].keys())\n",
    "        mmr_list = [item for item in my_list if 'MR' in item]\n",
    "        elm_list = [item for item in mmr_list if elm in item]\n",
    "        grp_list = [item for item in mmr_list if grp in item]\n",
    "        elm_mmr = ds[exp][elm_list]\n",
    "        grp_mmr = ds[exp][grp_list]\n",
    "        \n",
    "    \n",
    "        ds[exp][elm + 'massfrac'] = massfrct(grp, elm, ds[exp]['bin'], grp_mmr, elm_mmr)\n"
   ]
  },
  {
   "cell_type": "code",
   "execution_count": null,
   "id": "5adf72ab-46d6-470a-bd89-1b21c5e7f3e1",
   "metadata": {},
   "outputs": [],
   "source": [
    "fig, axs = plt.subplots(figsize=(10, 6), nrows=3, ncols=3) \n",
    "axs = axs.flatten()    \n",
    "fig.subplots_adjust(top=0.9, hspace=0., wspace=0.)\n",
    "\n",
    "\n",
    "tt = [ 1, 2,  4, 8, 12, 24, 48, 60, 96]\n",
    "ttt = ['30m', '1h','2h', '4h', '6h', '12h', '1d', '1.5d', '2d']\n",
    "\n",
    "for i, t in enumerate(tt):\n",
    "    for exp in exper_list:\n",
    "        for elm in elements:\n",
    "        \n",
    "            vr = ds[exp][elm + 'massfrac'].sel(time = ds[exp].time[t])\n",
    "\n",
    "            if group_types[grp] == 'standard':\n",
    "                    axs[i].bar( ds[exp][grp + '_r'].values * 1e4, vr.values, \n",
    "                       align='center', width=ds[exp][grp + '_dr'].values * 1e4, \n",
    "                       edgecolor=color_grp[grp+exp], color='none', label=exp + ': ' + elm)\n",
    "    \n",
    "                        \n",
    "                    axs[i].set(xscale='log', xticks=[1e-4, 1e-3, 1e-2, 1e-1, 1], xlim=[1e-4, 1e-1], ylim=[0, 1.04])\n",
    "                    \n",
    "               \n",
    "            elif group_types[grp] == 'fractal':\n",
    "                    axs[i].bar( ds[exp]['bin'], vr.values, \n",
    "                        align='center', width=1, edgecolor=color_exp[exp], color='none', label=exp + ': ' + elm)\n",
    "    \n",
    "                    axs[i].set( xticks=ds[exp]['bin'], yticks=np.arange(0.0, 1., 0.2), xlim=[0., len(ds[exp]['bin'])+1], ylim=[0, 1.04])\n",
    "                   \n",
    "           \n",
    "     # Axis aspect\n",
    "    axs[i].set_title( 't= ' + ttt[i], y=0.82, fontweight='bold')\n",
    "    axs[i].minorticks_on()\n",
    "    axs[i].tick_params(which='major',direction=\"in\", length=5, top=True, right=True)\n",
    "    axs[i].tick_params(which='minor', direction=\"in\", length=2.5, top=False, bottom=False, right=True, left=True)\n",
    "    \n",
    "    if i < 6:\n",
    "        axs[i].set_xticklabels([])\n",
    "\n",
    "    if i%3:\n",
    "        axs[i].set_yticklabels([])\n",
    "        \n",
    "\n",
    "axs[-2].legend(loc='center', bbox_to_anchor=(0.5, -0.5), fancybox=True, shadow=True, ncols=3)\n",
    "axs[3].set_ylabel(\"Fraction\", fontweight='bold', fontsize=14 )\n",
    "fig.suptitle(\"Mass Fraction per element\", fontweight='bold', fontsize=14 )\n",
    "\n",
    "if group_types[grp] == 'standard':\n",
    "    axs[-2].set_xlabel(r'$\\mu$m')\n",
    "elif group_types[grp] == 'fractal':\n",
    "    axs[-2].set_xlabel(r'Bin')\n",
    "\n",
    "\n",
    "fig.patch.set_facecolor('white')\n",
    "fig.savefig(plot_dir +'Massdist.png', bbox_inches='tight')"
   ]
  }
 ],
 "metadata": {
  "kernelspec": {
   "display_name": "NPL 2024b",
   "language": "python",
   "name": "npl-2024b"
  },
  "language_info": {
   "codemirror_mode": {
    "name": "ipython",
    "version": 3
   },
   "file_extension": ".py",
   "mimetype": "text/x-python",
   "name": "python",
   "nbconvert_exporter": "python",
   "pygments_lexer": "ipython3",
   "version": "3.11.9"
  }
 },
 "nbformat": 4,
 "nbformat_minor": 5
}
